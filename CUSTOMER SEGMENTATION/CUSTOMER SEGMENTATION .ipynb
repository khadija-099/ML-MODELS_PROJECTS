{
 "cells": [
  {
   "cell_type": "code",
   "execution_count": 1,
   "id": "cc5f4aa5",
   "metadata": {},
   "outputs": [],
   "source": [
    "import pandas as pd\n",
    "import numpy as np\n",
    "from sklearn.cluster import KMeans\n",
    "from sklearn.metrics import silhouette_score\n",
    "import matplotlib.pyplot as plt\n",
    "import seaborn as sns"
   ]
  },
  {
   "cell_type": "markdown",
   "id": "44ec71ac",
   "metadata": {},
   "source": [
    "# DATASET WITH  100 CUSTOMERS & 5 COLUMNS"
   ]
  },
  {
   "cell_type": "code",
   "execution_count": 2,
   "id": "fe34abf2",
   "metadata": {},
   "outputs": [
    {
     "data": {
      "text/html": [
       "<div>\n",
       "<style scoped>\n",
       "    .dataframe tbody tr th:only-of-type {\n",
       "        vertical-align: middle;\n",
       "    }\n",
       "\n",
       "    .dataframe tbody tr th {\n",
       "        vertical-align: top;\n",
       "    }\n",
       "\n",
       "    .dataframe thead th {\n",
       "        text-align: right;\n",
       "    }\n",
       "</style>\n",
       "<table border=\"1\" class=\"dataframe\">\n",
       "  <thead>\n",
       "    <tr style=\"text-align: right;\">\n",
       "      <th></th>\n",
       "      <th>CustomerID</th>\n",
       "      <th>Age</th>\n",
       "      <th>Average_Spend</th>\n",
       "      <th>Visits_per_week</th>\n",
       "      <th>Promotion_Interest</th>\n",
       "    </tr>\n",
       "  </thead>\n",
       "  <tbody>\n",
       "    <tr>\n",
       "      <th>0</th>\n",
       "      <td>1</td>\n",
       "      <td>56</td>\n",
       "      <td>18.206968</td>\n",
       "      <td>5.266897</td>\n",
       "      <td>2</td>\n",
       "    </tr>\n",
       "    <tr>\n",
       "      <th>1</th>\n",
       "      <td>2</td>\n",
       "      <td>46</td>\n",
       "      <td>5.633592</td>\n",
       "      <td>5.857006</td>\n",
       "      <td>9</td>\n",
       "    </tr>\n",
       "    <tr>\n",
       "      <th>2</th>\n",
       "      <td>3</td>\n",
       "      <td>32</td>\n",
       "      <td>13.947908</td>\n",
       "      <td>3.091996</td>\n",
       "      <td>8</td>\n",
       "    </tr>\n",
       "    <tr>\n",
       "      <th>3</th>\n",
       "      <td>4</td>\n",
       "      <td>60</td>\n",
       "      <td>37.010388</td>\n",
       "      <td>1.577059</td>\n",
       "      <td>10</td>\n",
       "    </tr>\n",
       "    <tr>\n",
       "      <th>4</th>\n",
       "      <td>5</td>\n",
       "      <td>25</td>\n",
       "      <td>40.557899</td>\n",
       "      <td>6.643140</td>\n",
       "      <td>7</td>\n",
       "    </tr>\n",
       "  </tbody>\n",
       "</table>\n",
       "</div>"
      ],
      "text/plain": [
       "   CustomerID  Age  Average_Spend  Visits_per_week  Promotion_Interest\n",
       "0           1   56      18.206968         5.266897                   2\n",
       "1           2   46       5.633592         5.857006                   9\n",
       "2           3   32      13.947908         3.091996                   8\n",
       "3           4   60      37.010388         1.577059                  10\n",
       "4           5   25      40.557899         6.643140                   7"
      ]
     },
     "execution_count": 2,
     "metadata": {},
     "output_type": "execute_result"
    }
   ],
   "source": [
    "np.random.seed(42)\n",
    "data = {\n",
    "    'CustomerID':np.arange(1,101),\n",
    "    'Age':np.random.randint(18,65,size = 100),\n",
    "    'Average_Spend':np.random.uniform(5,50,size = 100),\n",
    "    'Visits_per_week':np.random.uniform(1,7,size = 100),\n",
    "    'Promotion_Interest':np.random.randint(1,11,size = 100)\n",
    "}\n",
    "\n",
    "df = pd.DataFrame(data)\n",
    "df.head()"
   ]
  },
  {
   "cell_type": "markdown",
   "id": "59d86b56",
   "metadata": {},
   "source": [
    "# APPLYING KMeans CUSTERING TO SEGMENT CUSTOMERS INTO 3 GRPS"
   ]
  },
  {
   "cell_type": "code",
   "execution_count": 3,
   "id": "a0926204",
   "metadata": {},
   "outputs": [
    {
     "name": "stdout",
     "output_type": "stream",
     "text": [
      "[[56.         18.20696786  5.26689719  2.        ]\n",
      " [46.          5.63359202  5.85700628  9.        ]\n",
      " [32.         13.94790818  3.09199592  8.        ]\n",
      " [60.         37.01038787  1.57705931 10.        ]\n",
      " [25.         40.55789932  6.64313959  7.        ]\n",
      " [38.         32.26819887  3.38543213  9.        ]\n",
      " [56.         46.68353953  4.1065081   4.        ]\n",
      " [36.         34.29846615  6.02626064  4.        ]\n",
      " [40.         46.1731854   5.0541407   1.        ]\n",
      " [28.         43.251736    5.41129672  8.        ]\n",
      " [28.         25.22528034  2.25442972  3.        ]\n",
      " [41.          9.29345524  4.24868784  7.        ]\n",
      " [53.         21.68682135  5.1747064   2.        ]\n",
      " [57.         35.09785637  2.37130013  2.        ]\n",
      " [41.         34.96650605  2.04972956  7.        ]\n",
      " [20.         31.60840045  6.89301006  6.        ]\n",
      " [39.         17.36248068  4.09981535  3.        ]\n",
      " [19.         30.25595416  2.56497505  9.        ]\n",
      " [41.         22.23170936  6.9775222  10.        ]\n",
      " [61.         48.72704429  6.79251611  6.        ]\n",
      " [47.         43.20112209  4.34976072 10.        ]\n",
      " [55.         37.47782845  6.29581806 10.        ]\n",
      " [19.         15.61932139  2.13224265  6.        ]\n",
      " [38.         16.52307452  2.67322812  1.        ]\n",
      " [50.          6.81951153  5.20214698  4.        ]\n",
      " [29.         36.97983004  6.07996685 10.        ]\n",
      " [39.          9.99008694  6.13794575  6.        ]\n",
      " [61.         24.77014258  3.42704876  6.        ]\n",
      " [42.         14.07736411  6.32662059  5.        ]\n",
      " [44.         45.30936181  6.10557069  1.        ]\n",
      " [59.         26.39166004  6.61380997  8.        ]\n",
      " [45.         30.34740074  5.71204391  5.        ]\n",
      " [33.         36.29822389  5.01392953  5.        ]\n",
      " [32.         11.26991545  4.48411973  7.        ]\n",
      " [64.         32.19878207  3.2336966   4.        ]\n",
      " [61.         29.29284911  6.64080065  6.        ]\n",
      " [20.         14.13775511  6.84198302  4.        ]\n",
      " [54.         47.42841068  2.70352585  3.        ]\n",
      " [24.         31.94894599  2.83218316  7.        ]\n",
      " [38.         36.26532199  3.91368252  8.        ]\n",
      " [26.         44.62105276  3.69054486  4.        ]\n",
      " [56.         33.09593217  6.96674478  2.        ]\n",
      " [35.         18.30351586  2.05555152 10.        ]\n",
      " [21.          9.74724169  1.10845218  3.        ]\n",
      " [42.         25.54405567  3.96336229  1.        ]\n",
      " [31.         14.82981967  2.07293626  8.        ]\n",
      " [26.         23.74294765  3.19881271  3.        ]\n",
      " [43.         44.74761165  5.46502314 10.        ]\n",
      " [19.         19.59552595  5.32563955  7.        ]\n",
      " [37.         10.49395796  2.84836475 10.        ]\n",
      " [45.         21.03340271  4.25524138  5.        ]\n",
      " [64.         45.80727987  4.05288446 10.        ]\n",
      " [24.         17.24595122  4.81799571  5.        ]\n",
      " [61.         34.14605542  2.50277091  7.        ]\n",
      " [25.          5.02341696  4.53922509  9.        ]\n",
      " [64.         20.86559854  6.87335715  5.        ]\n",
      " [52.         18.71515662  3.92045292  1.        ]\n",
      " [31.         12.40951339  6.43659273 10.        ]\n",
      " [34.         29.03402387  3.60636619 10.        ]\n",
      " [53.         26.81734871  3.10047045  1.        ]\n",
      " [57.         36.15962148  4.87062017  2.        ]\n",
      " [21.         17.12355502  5.01354436  6.        ]\n",
      " [19.         15.9856485   6.18500539  9.        ]\n",
      " [23.         12.5730969   2.38111161  8.        ]\n",
      " [59.         14.84438988  3.99516028  5.        ]\n",
      " [21.         30.11459009  4.4320252   1.        ]\n",
      " [46.         23.1726277   5.61132409  7.        ]\n",
      " [35.          7.92015112  1.26162263  5.        ]\n",
      " [43.         16.42619363  6.96730306  6.        ]\n",
      " [61.         16.10942283  3.81966708  7.        ]\n",
      " [51.         36.33369228  2.67736205  3.        ]\n",
      " [27.         37.05217655  6.30096413 10.        ]\n",
      " [53.         11.66391185  5.48631264  3.        ]\n",
      " [31.         49.89832183  6.71843108  5.        ]\n",
      " [48.         17.00514564  2.98450183  6.        ]\n",
      " [32.         48.94767301  4.3165898   9.        ]\n",
      " [25.         23.4966656   4.43375482  5.        ]\n",
      " [31.          6.48728298  6.8819895   1.        ]\n",
      " [40.         20.52820616  1.45207754  4.        ]\n",
      " [57.         33.54581051  2.83418212  5.        ]\n",
      " [38.         35.63174532  2.14546619 10.        ]\n",
      " [33.         28.89205625  2.61084914 10.        ]\n",
      " [62.         25.15024241  3.91167925  5.        ]\n",
      " [35.         29.88018901  3.2361212   7.        ]\n",
      " [64.         31.67135257  3.3681488   4.        ]\n",
      " [41.          8.63839968  6.06527884  1.        ]\n",
      " [43.         21.63445052  6.58010101  5.        ]\n",
      " [42.         15.89719722  1.42249679  7.        ]\n",
      " [62.         41.14128904  2.25351231 10.        ]\n",
      " [58.         26.16352855  5.0268611  10.        ]\n",
      " [46.         49.25404134  3.15188069  6.        ]\n",
      " [32.         22.94709991  2.52498189  5.        ]\n",
      " [62.         41.73943429  2.77174353  4.        ]\n",
      " [18.         40.92553062  2.93530459  2.        ]\n",
      " [42.         11.78228948  6.09201877  4.        ]\n",
      " [24.         27.86894495  1.81972799 10.        ]\n",
      " [26.         36.31157631  5.25346598 10.        ]\n",
      " [41.         43.62614622  4.31691986  3.        ]\n",
      " [18.         19.66815073  2.77906086 10.        ]\n",
      " [61.         14.91084714  3.51868514  1.        ]]\n"
     ]
    }
   ],
   "source": [
    "x = df.drop('CustomerID',axis = 1)\n",
    "x=x.values\n",
    "print(x)"
   ]
  },
  {
   "cell_type": "code",
   "execution_count": 4,
   "id": "5815b9d1",
   "metadata": {},
   "outputs": [
    {
     "name": "stderr",
     "output_type": "stream",
     "text": [
      "C:\\Anaconda\\Lib\\site-packages\\sklearn\\cluster\\_kmeans.py:1429: UserWarning: KMeans is known to have a memory leak on Windows with MKL, when there are less chunks than available threads. You can avoid it by setting the environment variable OMP_NUM_THREADS=1.\n",
      "  warnings.warn(\n",
      "C:\\Anaconda\\Lib\\site-packages\\sklearn\\cluster\\_kmeans.py:1429: UserWarning: KMeans is known to have a memory leak on Windows with MKL, when there are less chunks than available threads. You can avoid it by setting the environment variable OMP_NUM_THREADS=1.\n",
      "  warnings.warn(\n",
      "C:\\Anaconda\\Lib\\site-packages\\sklearn\\cluster\\_kmeans.py:1429: UserWarning: KMeans is known to have a memory leak on Windows with MKL, when there are less chunks than available threads. You can avoid it by setting the environment variable OMP_NUM_THREADS=1.\n",
      "  warnings.warn(\n",
      "C:\\Anaconda\\Lib\\site-packages\\sklearn\\cluster\\_kmeans.py:1429: UserWarning: KMeans is known to have a memory leak on Windows with MKL, when there are less chunks than available threads. You can avoid it by setting the environment variable OMP_NUM_THREADS=1.\n",
      "  warnings.warn(\n",
      "C:\\Anaconda\\Lib\\site-packages\\sklearn\\cluster\\_kmeans.py:1429: UserWarning: KMeans is known to have a memory leak on Windows with MKL, when there are less chunks than available threads. You can avoid it by setting the environment variable OMP_NUM_THREADS=1.\n",
      "  warnings.warn(\n",
      "C:\\Anaconda\\Lib\\site-packages\\sklearn\\cluster\\_kmeans.py:1429: UserWarning: KMeans is known to have a memory leak on Windows with MKL, when there are less chunks than available threads. You can avoid it by setting the environment variable OMP_NUM_THREADS=1.\n",
      "  warnings.warn(\n",
      "C:\\Anaconda\\Lib\\site-packages\\sklearn\\cluster\\_kmeans.py:1429: UserWarning: KMeans is known to have a memory leak on Windows with MKL, when there are less chunks than available threads. You can avoid it by setting the environment variable OMP_NUM_THREADS=1.\n",
      "  warnings.warn(\n",
      "C:\\Anaconda\\Lib\\site-packages\\sklearn\\cluster\\_kmeans.py:1429: UserWarning: KMeans is known to have a memory leak on Windows with MKL, when there are less chunks than available threads. You can avoid it by setting the environment variable OMP_NUM_THREADS=1.\n",
      "  warnings.warn(\n",
      "C:\\Anaconda\\Lib\\site-packages\\sklearn\\cluster\\_kmeans.py:1429: UserWarning: KMeans is known to have a memory leak on Windows with MKL, when there are less chunks than available threads. You can avoid it by setting the environment variable OMP_NUM_THREADS=1.\n",
      "  warnings.warn(\n",
      "C:\\Anaconda\\Lib\\site-packages\\sklearn\\cluster\\_kmeans.py:1429: UserWarning: KMeans is known to have a memory leak on Windows with MKL, when there are less chunks than available threads. You can avoid it by setting the environment variable OMP_NUM_THREADS=1.\n",
      "  warnings.warn(\n"
     ]
    }
   ],
   "source": [
    "wcss = []\n",
    "for i in range(1,11):\n",
    "    kmeans = KMeans(n_clusters=i , init = 'k-means++' , random_state = 42)\n",
    "    kmeans.fit(x)\n",
    "    \n",
    "    wcss.append(kmeans.inertia_)"
   ]
  },
  {
   "cell_type": "code",
   "execution_count": 5,
   "id": "4eeaeaac",
   "metadata": {},
   "outputs": [
    {
     "data": {
      "text/plain": [
       "Text(0.5, 1.0, 'The Elbow Point Graph')"
      ]
     },
     "execution_count": 5,
     "metadata": {},
     "output_type": "execute_result"
    },
    {
     "data": {
      "image/png": "[encoded data removed]",
      "text/plain": [
       "<Figure size 800x500 with 1 Axes>"
      ]
     },
     "metadata": {},
     "output_type": "display_data"
    }
   ],
   "source": [
    "sns.set()\n",
    "plt.figure(figsize=(8,5))\n",
    "plt.plot(range(1,11),wcss,marker = 'o')\n",
    "plt.xlabel('Number Of Clusters')\n",
    "plt.ylabel('wcss')\n",
    "plt.title(\"The Elbow Point Graph\")"
   ]
  },
  {
   "cell_type": "markdown",
   "id": "74f751f5",
   "metadata": {},
   "source": [
    "# VISUALIZING THE CLUSTERS"
   ]
  },
  {
   "cell_type": "code",
   "execution_count": 6,
   "id": "fa0df42f",
   "metadata": {},
   "outputs": [
    {
     "name": "stderr",
     "output_type": "stream",
     "text": [
      "C:\\Anaconda\\Lib\\site-packages\\sklearn\\cluster\\_kmeans.py:1429: UserWarning: KMeans is known to have a memory leak on Windows with MKL, when there are less chunks than available threads. You can avoid it by setting the environment variable OMP_NUM_THREADS=1.\n",
      "  warnings.warn(\n"
     ]
    }
   ],
   "source": [
    "#optimum number of clusters wil be 3\n",
    "kmeans = KMeans(n_clusters = 3 , init = 'k-means++', random_state = 42)\n",
    "\n",
    "#return a label for each data point based on their Cluster\n",
    "y = kmeans.fit_predict(x)"
   ]
  },
  {
   "cell_type": "code",
   "execution_count": 7,
   "id": "05893de1",
   "metadata": {},
   "outputs": [
    {
     "name": "stdout",
     "output_type": "stream",
     "text": [
      "[2 2 2 0 1 1 0 1 0 1 1 2 2 0 0 1 2 1 2 0 0 0 1 2 2 1 2 0 2 0 0 0 1 2 0 0 1\n",
      " 0 1 1 1 0 2 1 2 2 1 0 1 2 2 0 1 0 2 0 2 2 1 0 0 1 1 1 2 1 2 2 2 2 0 1 2 1\n",
      " 2 1 1 2 2 0 1 1 0 1 0 2 2 2 0 0 0 1 0 1 2 1 1 0 1 2]\n"
     ]
    }
   ],
   "source": [
    "print(y)"
   ]
  },
  {
   "cell_type": "code",
   "execution_count": 8,
   "id": "86c0b9ac",
   "metadata": {},
   "outputs": [],
   "source": [
    "df['Cluster'] = y\n",
    "\n",
    "cluster_names = {0:'Daily', 1:'Promotion', 2:'Weekend'}\n",
    "df['Customer Group']=df.Cluster.map(cluster_names)"
   ]
  },
  {
   "cell_type": "code",
   "execution_count": 9,
   "id": "802d9d7b",
   "metadata": {},
   "outputs": [
    {
     "data": {
      "text/html": [
       "<div>\n",
       "<style scoped>\n",
       "    .dataframe tbody tr th:only-of-type {\n",
       "        vertical-align: middle;\n",
       "    }\n",
       "\n",
       "    .dataframe tbody tr th {\n",
       "        vertical-align: top;\n",
       "    }\n",
       "\n",
       "    .dataframe thead th {\n",
       "        text-align: right;\n",
       "    }\n",
       "</style>\n",
       "<table border=\"1\" class=\"dataframe\">\n",
       "  <thead>\n",
       "    <tr style=\"text-align: right;\">\n",
       "      <th></th>\n",
       "      <th>CustomerID</th>\n",
       "      <th>Age</th>\n",
       "      <th>Average_Spend</th>\n",
       "      <th>Visits_per_week</th>\n",
       "      <th>Promotion_Interest</th>\n",
       "      <th>Cluster</th>\n",
       "      <th>Customer Group</th>\n",
       "    </tr>\n",
       "  </thead>\n",
       "  <tbody>\n",
       "    <tr>\n",
       "      <th>0</th>\n",
       "      <td>1</td>\n",
       "      <td>56</td>\n",
       "      <td>18.206968</td>\n",
       "      <td>5.266897</td>\n",
       "      <td>2</td>\n",
       "      <td>2</td>\n",
       "      <td>Weekend</td>\n",
       "    </tr>\n",
       "    <tr>\n",
       "      <th>1</th>\n",
       "      <td>2</td>\n",
       "      <td>46</td>\n",
       "      <td>5.633592</td>\n",
       "      <td>5.857006</td>\n",
       "      <td>9</td>\n",
       "      <td>2</td>\n",
       "      <td>Weekend</td>\n",
       "    </tr>\n",
       "    <tr>\n",
       "      <th>2</th>\n",
       "      <td>3</td>\n",
       "      <td>32</td>\n",
       "      <td>13.947908</td>\n",
       "      <td>3.091996</td>\n",
       "      <td>8</td>\n",
       "      <td>2</td>\n",
       "      <td>Weekend</td>\n",
       "    </tr>\n",
       "    <tr>\n",
       "      <th>3</th>\n",
       "      <td>4</td>\n",
       "      <td>60</td>\n",
       "      <td>37.010388</td>\n",
       "      <td>1.577059</td>\n",
       "      <td>10</td>\n",
       "      <td>0</td>\n",
       "      <td>Daily</td>\n",
       "    </tr>\n",
       "    <tr>\n",
       "      <th>4</th>\n",
       "      <td>5</td>\n",
       "      <td>25</td>\n",
       "      <td>40.557899</td>\n",
       "      <td>6.643140</td>\n",
       "      <td>7</td>\n",
       "      <td>1</td>\n",
       "      <td>Promotion</td>\n",
       "    </tr>\n",
       "  </tbody>\n",
       "</table>\n",
       "</div>"
      ],
      "text/plain": [
       "   CustomerID  Age  Average_Spend  Visits_per_week  Promotion_Interest  \\\n",
       "0           1   56      18.206968         5.266897                   2   \n",
       "1           2   46       5.633592         5.857006                   9   \n",
       "2           3   32      13.947908         3.091996                   8   \n",
       "3           4   60      37.010388         1.577059                  10   \n",
       "4           5   25      40.557899         6.643140                   7   \n",
       "\n",
       "   Cluster Customer Group  \n",
       "0        2        Weekend  \n",
       "1        2        Weekend  \n",
       "2        2        Weekend  \n",
       "3        0          Daily  \n",
       "4        1      Promotion  "
      ]
     },
     "execution_count": 9,
     "metadata": {},
     "output_type": "execute_result"
    }
   ],
   "source": [
    "df.head()"
   ]
  },
  {
   "cell_type": "code",
   "execution_count": 14,
   "id": "b2f302f0",
   "metadata": {},
   "outputs": [
    {
     "data": {
      "text/plain": [
       "Text(0, 0.5, 'Average Spend')"
      ]
     },
     "execution_count": 14,
     "metadata": {},
     "output_type": "execute_result"
    },
    {
     "data": {
      "image/png": "[encoded data removed]",
      "text/plain": [
       "<Figure size 800x800 with 1 Axes>"
      ]
     },
     "metadata": {},
     "output_type": "display_data"
    }
   ],
   "source": [
    "#plotting all the clusters\n",
    "\n",
    "plt.figure(figsize=(8,8))\n",
    "plt.scatter(x[y == 0,0], x[y == 0,1], s= 50, c='green',label = 'Cluster 1')\n",
    "plt.scatter(x[y == 1,0], x[y == 1,1], s=50, c='yellow',label = 'Cluster 2')\n",
    "plt.scatter(x[y == 2,0], x[y == 2,1], s=50, c= 'red',label = 'Cluster 3')\n",
    "\n",
    "\n",
    "#PLOTTING ALL THE CENTROIDS\n",
    "\n",
    "plt.scatter(kmeans.cluster_centers_[:,0],kmeans.cluster_centers_[:,1], s = 100 , c= 'cyan',label = 'Centroid')\n",
    "plt.title('Customer Groups')\n",
    "plt.xlabel('Age')\n",
    "plt.ylabel('Average Spend')"
   ]
  },
  {
   "cell_type": "markdown",
   "id": "164e2291",
   "metadata": {},
   "source": [
    "# CLUSTERING PERFORMANCE"
   ]
  },
  {
   "cell_type": "code",
   "execution_count": 17,
   "id": "21c382f8",
   "metadata": {},
   "outputs": [
    {
     "name": "stdout",
     "output_type": "stream",
     "text": [
      "0.36846369703368004\n"
     ]
    }
   ],
   "source": [
    "print(silhouette_score(x,df['Cluster']))"
   ]
  },
  {
   "cell_type": "markdown",
   "id": "0672616a",
   "metadata": {},
   "source": [
    "# SAVE KMEANS FOR FUTURE INFERENCE"
   ]
  },
  {
   "cell_type": "code",
   "execution_count": 18,
   "id": "ce6befe8",
   "metadata": {},
   "outputs": [],
   "source": [
    "import pickle\n",
    "pickle.dump(kmeans,open(\"kmeans.pickle\",'wb'))\n"
   ]
  },
  {
   "cell_type": "code",
   "execution_count": 19,
   "id": "0ad727ef",
   "metadata": {},
   "outputs": [],
   "source": [
    "kmeans = pickle.load(open(\"kmeans.pickle\",\"rb\"))"
   ]
  },
  {
   "cell_type": "markdown",
   "id": "f63b1835",
   "metadata": {},
   "source": [
    "# PREDICT THE CLUSTER OF A NEW CUSTOMER"
   ]
  },
  {
   "cell_type": "code",
   "execution_count": 34,
   "id": "15b29ba7",
   "metadata": {},
   "outputs": [],
   "source": [
    "def clustering(age , avg_spend, visit_per_week, promotion_interest):\n",
    "    new_customer = np.array([[age, avg_spend, visit_per_week, promotion_interest]])\n",
    "    predicted_cluster = kmeans.predict(new_customer)\n",
    "    \n",
    "    if predicted_cluster ==0:\n",
    "        return \"Daily\"\n",
    "    \n",
    "    elif predicted_cluster ==1:\n",
    "        return \"Promotion\"\n",
    "    \n",
    "    else:\n",
    "        return \"Weekend\"\n",
    "    \n",
    "    "
   ]
  },
  {
   "cell_type": "code",
   "execution_count": 35,
   "id": "6c50fc6f",
   "metadata": {},
   "outputs": [
    {
     "name": "stdout",
     "output_type": "stream",
     "text": [
      "New Customer assigned to Promotion Cluster\n"
     ]
    }
   ],
   "source": [
    "#new customer\n",
    "age = 40\n",
    "avg_spend = 30\n",
    "visit_per_week = 4\n",
    "promotion_interest = 7\n",
    "\n",
    "predicted_cluster = clustering(age,avg_spend,visit_per_week,promotion_interest)\n",
    "\n",
    "print(f\"New Customer assigned to {predicted_cluster} Cluster\")"
   ]
  },
  {
   "cell_type": "code",
   "execution_count": null,
   "id": "b0544655",
   "metadata": {},
   "outputs": [],
   "source": []
  }
 ],
 "metadata": {
  "kernelspec": {
   "display_name": "Python 3 (ipykernel)",
   "language": "python",
   "name": "python3"
  },
  "language_info": {
   "codemirror_mode": {
    "name": "ipython",
    "version": 3
   },
   "file_extension": ".py",
   "mimetype": "text/x-python",
   "name": "python",
   "nbconvert_exporter": "python",
   "pygments_lexer": "ipython3",
   "version": "3.11.9"
  }
 },
 "nbformat": 4,
 "nbformat_minor": 5
}
